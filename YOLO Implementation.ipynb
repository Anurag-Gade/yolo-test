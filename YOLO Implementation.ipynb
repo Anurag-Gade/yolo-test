{
 "cells": [
  {
   "cell_type": "code",
   "execution_count": 24,
   "metadata": {},
   "outputs": [],
   "source": [
    "import cv2\n",
    "import numpy as np\n",
    "import matplotlib.pyplot as plt"
   ]
  },
  {
   "cell_type": "code",
   "execution_count": 25,
   "metadata": {},
   "outputs": [],
   "source": [
    "net = cv2.dnn.readNet(\"C:/Users/email/OneDrive/Desktop/DL_Directories/YOLO/yolov3.weights\",\"C:/Users/email/OneDrive/Desktop/DL_Directories/YOLO/yolov3.cfg.txt\")\n",
    "classes = []\n",
    "with open(\"C:/Users/email/OneDrive/Desktop/DL_Directories/YOLO/coco.names.txt\", \"r\") as f:\n",
    "    classes = [line.strip() for line in f.readlines()]\n",
    "layer_names = net.getLayerNames()\n",
    "output_layers = [layer_names[i[0] - 1] for i in net.getUnconnectedOutLayers()]\n",
    "colors = np.random.uniform(0, 255, size=(len(classes), 3))"
   ]
  },
  {
   "cell_type": "code",
   "execution_count": 26,
   "metadata": {},
   "outputs": [],
   "source": [
    "layers_names = net.getLayerNames()\n",
    "output_layers = [layers_names[i[0]-1] for i in net.getUnconnectedOutLayers()]\n",
    "colors = np.random.uniform(0, 255, size=(len(classes), 3))"
   ]
  },
  {
   "cell_type": "code",
   "execution_count": 27,
   "metadata": {},
   "outputs": [],
   "source": [
    "img = cv2.imread(\"C:/Users/email/Downloads/roombigger.jpeg\")\n",
    "# img = cv2.cvtColor(img,cv2.COLOR_BGR2RGB)"
   ]
  },
  {
   "cell_type": "code",
   "execution_count": 28,
   "metadata": {},
   "outputs": [],
   "source": [
    "while True:\n",
    "    cv2.imshow('room',img)\n",
    "    if cv2.waitKey(20) & 0xFF == 27:\n",
    "        break\n",
    "cv2.destroyAllWindows()\n"
   ]
  },
  {
   "cell_type": "code",
   "execution_count": 29,
   "metadata": {},
   "outputs": [],
   "source": [
    "img = cv2.resize(img,None,fx=0.4,fy=0.4)\n",
    "height, width, channels = img.shape"
   ]
  },
  {
   "cell_type": "code",
   "execution_count": 30,
   "metadata": {},
   "outputs": [
    {
     "name": "stdout",
     "output_type": "stream",
     "text": [
      "[array([[0.04176994, 0.06414001, 0.31664938, ..., 0.        , 0.        ,\n",
      "        0.        ],\n",
      "       [0.04325215, 0.02513513, 0.31381214, ..., 0.        , 0.        ,\n",
      "        0.        ],\n",
      "       [0.05096261, 0.04034778, 0.81475776, ..., 0.        , 0.        ,\n",
      "        0.        ],\n",
      "       ...,\n",
      "       [0.9688437 , 0.95520645, 0.4466519 , ..., 0.        , 0.        ,\n",
      "        0.        ],\n",
      "       [0.95954555, 0.96146804, 0.35183465, ..., 0.        , 0.        ,\n",
      "        0.        ],\n",
      "       [0.97135663, 0.9639231 , 0.772609  , ..., 0.        , 0.        ,\n",
      "        0.        ]], dtype=float32), array([[0.01938532, 0.0213584 , 0.06318157, ..., 0.        , 0.        ,\n",
      "        0.        ],\n",
      "       [0.01348499, 0.02101587, 0.25013122, ..., 0.        , 0.        ,\n",
      "        0.        ],\n",
      "       [0.02178611, 0.01527313, 0.08379884, ..., 0.        , 0.        ,\n",
      "        0.        ],\n",
      "       ...,\n",
      "       [0.974194  , 0.97384983, 0.04828383, ..., 0.        , 0.        ,\n",
      "        0.        ],\n",
      "       [0.98151207, 0.97727627, 0.33513084, ..., 0.        , 0.        ,\n",
      "        0.        ],\n",
      "       [0.9779491 , 0.9840441 , 0.07841928, ..., 0.        , 0.        ,\n",
      "        0.        ]], dtype=float32), array([[0.01016152, 0.00669539, 0.02049074, ..., 0.        , 0.        ,\n",
      "        0.        ],\n",
      "       [0.00994905, 0.01162828, 0.01991612, ..., 0.        , 0.        ,\n",
      "        0.        ],\n",
      "       [0.01001905, 0.00942317, 0.17620072, ..., 0.        , 0.        ,\n",
      "        0.        ],\n",
      "       ...,\n",
      "       [0.9894218 , 0.99172026, 0.01808422, ..., 0.        , 0.        ,\n",
      "        0.        ],\n",
      "       [0.9897836 , 0.98711777, 0.01746006, ..., 0.        , 0.        ,\n",
      "        0.        ],\n",
      "       [0.98795414, 0.99056315, 0.15350819, ..., 0.        , 0.        ,\n",
      "        0.        ]], dtype=float32)]\n"
     ]
    }
   ],
   "source": [
    "blob = cv2.dnn.blobFromImage(img, 0.00392, (416, 416), (0, 0, 0), True, crop=False)\n",
    "net.setInput(blob)\n",
    "outs = net.forward(output_layers)\n",
    "print(outs)"
   ]
  },
  {
   "cell_type": "code",
   "execution_count": 31,
   "metadata": {},
   "outputs": [
    {
     "name": "stdout",
     "output_type": "stream",
     "text": [
      "1\n",
      "laptop\n",
      "2\n",
      "laptop\n",
      "chair\n",
      "3\n",
      "laptop\n",
      "chair\n",
      "chair\n",
      "4\n",
      "laptop\n",
      "chair\n",
      "chair\n",
      "chair\n",
      "5\n",
      "laptop\n",
      "chair\n",
      "chair\n",
      "chair\n",
      "chair\n",
      "6\n",
      "laptop\n",
      "chair\n",
      "chair\n",
      "chair\n",
      "chair\n",
      "sofa\n",
      "7\n",
      "laptop\n",
      "chair\n",
      "chair\n",
      "chair\n",
      "chair\n",
      "sofa\n",
      "sofa\n",
      "8\n",
      "laptop\n",
      "chair\n",
      "chair\n",
      "chair\n",
      "chair\n",
      "sofa\n",
      "sofa\n",
      "laptop\n",
      "9\n",
      "laptop\n",
      "chair\n",
      "chair\n",
      "chair\n",
      "chair\n",
      "sofa\n",
      "sofa\n",
      "laptop\n",
      "laptop\n",
      "10\n",
      "laptop\n",
      "chair\n",
      "chair\n",
      "chair\n",
      "chair\n",
      "sofa\n",
      "sofa\n",
      "laptop\n",
      "laptop\n",
      "bottle\n",
      "11\n",
      "laptop\n",
      "chair\n",
      "chair\n",
      "chair\n",
      "chair\n",
      "sofa\n",
      "sofa\n",
      "laptop\n",
      "laptop\n",
      "bottle\n",
      "bottle\n"
     ]
    }
   ],
   "source": [
    "font = cv2.FONT_HERSHEY_PLAIN\n",
    "class_ids = []\n",
    "confidences = []\n",
    "boxes = []\n",
    "for out in outs:\n",
    "    for detection in out:\n",
    "        scores = detection[5:]\n",
    "        class_id = np.argmax(scores)\n",
    "        confidence = scores[class_id]\n",
    "        if confidence > 0.5:\n",
    "            center_x = int(detection[0]*width)\n",
    "            center_y = int(detection[1]*height)\n",
    "            w = int(detection[2] * width)\n",
    "            h = int(detection[3] * height)\n",
    "\n",
    "            #Rectangle coordinates\n",
    "            x = int(center_x - w / 2)\n",
    "            y = int(center_y - h / 2)\n",
    "            \n",
    "#             cv2.rectangle(img,(x,y),(x+w,y+h),(0,255,0),2)\n",
    "            boxes.append([x, y, w, h])\n",
    "            confidences.append(float(confidence))\n",
    "            class_ids.append(class_id)\n",
    "            print(len(boxes))\n",
    "            \n",
    "            for i in range(len(boxes)):\n",
    "                x,y,w,h = boxes[i]\n",
    "                label = classes[class_ids[i]]\n",
    "                cv2.rectangle(img,(x,y),(x+w,y+h),(0,255,0),2)\n",
    "                cv2.putText(img, label, (x,y+30),font,1,(0,0,0),3)\n",
    "                print(label)\n",
    "while True:\n",
    "    cv2.imshow('room',img)\n",
    "    if cv2.waitKey(20) & 0xFF == 27:\n",
    "        break\n",
    "cv2.destroyAllWindows()\n"
   ]
  },
  {
   "cell_type": "code",
   "execution_count": 23,
   "metadata": {},
   "outputs": [],
   "source": [
    "suppressed_boxes = cv2.dnn.NMSBoxes(boxes,confidences,0.5,0.4)"
   ]
  },
  {
   "cell_type": "code",
   "execution_count": null,
   "metadata": {},
   "outputs": [],
   "source": []
  }
 ],
 "metadata": {
  "kernelspec": {
   "display_name": "Python 3",
   "language": "python",
   "name": "python3"
  },
  "language_info": {
   "codemirror_mode": {
    "name": "ipython",
    "version": 3
   },
   "file_extension": ".py",
   "mimetype": "text/x-python",
   "name": "python",
   "nbconvert_exporter": "python",
   "pygments_lexer": "ipython3",
   "version": "3.8.3"
  }
 },
 "nbformat": 4,
 "nbformat_minor": 4
}
